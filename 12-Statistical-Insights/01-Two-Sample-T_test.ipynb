{
 "cells": [
  {
   "cell_type": "markdown",
   "id": "20ed2a53",
   "metadata": {
    "id": "20ed2a53"
   },
   "source": [
    "# Impact of Sample Size on Statistical Significance Using Two-Sample T-Test"
   ]
  },
  {
   "cell_type": "markdown",
   "id": "7c4f80ee",
   "metadata": {
    "id": "7c4f80ee"
   },
   "source": [
    "### 1. Introduction to the Two-Sample T-Test\n",
    "- The **two-sample t-test** is a statistical test used to determine whether the means of two independent groups are significantly different from each other. It is commonly used when comparing two different groups, such as customers exposed to different marketing strategies, to evaluate if the differences observed are statistically significant or likely due to random chance.\n",
    "- **Null Hypothesis (H0)**: The average spending in Group A is equal to the average spending in Group B.\n",
    "- **Alternative Hypothesis (H1)**: The average spending in Group A is significantly different (or higher) than that in Group B.\n",
    "- **Assumptions**: The two-sample t-test assumes that the data in both groups are normally distributed, and the variances of the two groups are similar. If these assumptions do not hold, other tests (such as the Welch's t-test or non-parametric tests) might be more appropriate.\n",
    "- **Test Statistic**: The t-test calculates a t-statistic, which measures the size of the difference relative to the variation in the sample data. A larger t-statistic indicates a larger difference between group means relative to the variability within groups.\n",
    "- **p-value**: The p-value indicates the probability that the observed difference (or a more extreme one) could have occurred under the null hypothesis. A p-value below a certain threshold (commonly 0.05) suggests that the null hypothesis can be rejected, indicating a statistically significant difference.\n",
    "\n",
    "**Note**: Checking for normality is crucial because the t-test relies on the assumption that both groups are normally distributed. Violating this assumption may lead to incorrect conclusions.\n",
    "\n",
    "### T-Test Limitations\n",
    "- **Normality Requirement**: Assumes that both groups are normally distributed, which may not hold true for all datasets.\n",
    "- **Equal Variances**: Relies on the assumption that the variances of the two groups are similar; significant differences in variances can affect the test's accuracy.\n",
    "- **Sensitivity to Outliers**: Outliers can disproportionately influence the results, potentially leading to misleading conclusions.\n",
    "- **Independent Samples**: Requires that the two groups are independent of each other, limiting its use for paired or related samples.\n",
    "- **Sample Size Constraints**: May not perform well with very small sample sizes, especially if the normality assumption is violated.\n",
    "- **Focus on Means Only**: Only assesses differences in means, ignoring other aspects of the data distributions such as variability or shape.\n",
    "- **Large Sample Sizes**: With very large samples, even trivial differences between group means can become statistically significant, which may not be practically meaningful. This can lead to the rejection of the null hypothesis for differences that have little to no real-world impact."
   ]
  },
  {
   "cell_type": "markdown",
   "id": "35fd13d5",
   "metadata": {
    "id": "35fd13d5"
   },
   "source": [
    "### 2. Testing for Normality\n",
    "- Before performing a two-sample t-test, it's important to check if both groups are approximately normally distributed, as this is an assumption of the t-test.\n",
    "- We can use the **Shapiro-Wilk test** to check for normality. This test provides a p-value that helps us decide whether or not we can assume normality. We can also usual guides\n",
    "- Below, we perform the Shapiro-Wilk test on a subset of the data. If the p-value is greater than 0.05, we fail to reject the null hypothesis that the data is normally distributed."
   ]
  },
  {
   "cell_type": "markdown",
   "id": "edd8d511",
   "metadata": {
    "id": "edd8d511"
   },
   "source": [
    "### 3. Sample Size and Its Impact\n",
    "- Let's start by explaining why sample size matters: larger samples reduce variability and make it easier to detect a true effect if it exists.\n",
    "- Run the code iteratively, beginning with smaller sample sizes (e.g., 30), and demonstrate how the p-value behaves as the sample size increases."
   ]
  },
  {
   "cell_type": "code",
   "execution_count": 2,
   "id": "aba65811",
   "metadata": {
    "colab": {
     "base_uri": "https://localhost:8080/",
     "height": 423
    },
    "executionInfo": {
     "elapsed": 162,
     "status": "ok",
     "timestamp": 1728493842883,
     "user": {
      "displayName": "Mohammad Soltanieh Ha",
      "userId": "12308918870841825745"
     },
     "user_tz": 240
    },
    "id": "aba65811",
    "outputId": "6a7b3f26-17a7-44a6-c5e5-6fd4d5f6a04d"
   },
   "outputs": [
    {
     "data": {
      "text/html": [
       "<div>\n",
       "<style scoped>\n",
       "    .dataframe tbody tr th:only-of-type {\n",
       "        vertical-align: middle;\n",
       "    }\n",
       "\n",
       "    .dataframe tbody tr th {\n",
       "        vertical-align: top;\n",
       "    }\n",
       "\n",
       "    .dataframe thead th {\n",
       "        text-align: right;\n",
       "    }\n",
       "</style>\n",
       "<table border=\"1\" class=\"dataframe\">\n",
       "  <thead>\n",
       "    <tr style=\"text-align: right;\">\n",
       "      <th></th>\n",
       "      <th>group</th>\n",
       "      <th>spending</th>\n",
       "    </tr>\n",
       "  </thead>\n",
       "  <tbody>\n",
       "    <tr>\n",
       "      <th>0</th>\n",
       "      <td>A</td>\n",
       "      <td>167.384995</td>\n",
       "    </tr>\n",
       "    <tr>\n",
       "      <th>1</th>\n",
       "      <td>A</td>\n",
       "      <td>145.160749</td>\n",
       "    </tr>\n",
       "    <tr>\n",
       "      <th>2</th>\n",
       "      <td>A</td>\n",
       "      <td>172.669099</td>\n",
       "    </tr>\n",
       "    <tr>\n",
       "      <th>3</th>\n",
       "      <td>A</td>\n",
       "      <td>203.306045</td>\n",
       "    </tr>\n",
       "    <tr>\n",
       "      <th>4</th>\n",
       "      <td>A</td>\n",
       "      <td>141.804632</td>\n",
       "    </tr>\n",
       "    <tr>\n",
       "      <th>...</th>\n",
       "      <td>...</td>\n",
       "      <td>...</td>\n",
       "    </tr>\n",
       "    <tr>\n",
       "      <th>1995</th>\n",
       "      <td>B</td>\n",
       "      <td>166.753756</td>\n",
       "    </tr>\n",
       "    <tr>\n",
       "      <th>1996</th>\n",
       "      <td>B</td>\n",
       "      <td>139.336969</td>\n",
       "    </tr>\n",
       "    <tr>\n",
       "      <th>1997</th>\n",
       "      <td>B</td>\n",
       "      <td>117.953134</td>\n",
       "    </tr>\n",
       "    <tr>\n",
       "      <th>1998</th>\n",
       "      <td>B</td>\n",
       "      <td>135.923326</td>\n",
       "    </tr>\n",
       "    <tr>\n",
       "      <th>1999</th>\n",
       "      <td>B</td>\n",
       "      <td>121.377434</td>\n",
       "    </tr>\n",
       "  </tbody>\n",
       "</table>\n",
       "<p>2000 rows × 2 columns</p>\n",
       "</div>"
      ],
      "text/plain": [
       "     group    spending\n",
       "0        A  167.384995\n",
       "1        A  145.160749\n",
       "2        A  172.669099\n",
       "3        A  203.306045\n",
       "4        A  141.804632\n",
       "...    ...         ...\n",
       "1995     B  166.753756\n",
       "1996     B  139.336969\n",
       "1997     B  117.953134\n",
       "1998     B  135.923326\n",
       "1999     B  121.377434\n",
       "\n",
       "[2000 rows x 2 columns]"
      ]
     },
     "execution_count": 2,
     "metadata": {},
     "output_type": "execute_result"
    }
   ],
   "source": [
    "import numpy as np\n",
    "import pandas as pd\n",
    "from scipy.stats import ttest_ind, shapiro\n",
    "import seaborn as sns\n",
    "import matplotlib.pyplot as plt\n",
    "import random\n",
    "\n",
    "# Generating Synthetic Dataset\n",
    "np.random.seed(42)\n",
    "random.seed(42)\n",
    "\n",
    "total_size = 1000\n",
    "# Group A: Marketing Campaign A - slightly higher spending\n",
    "group_a = np.random.normal(loc=150, scale=35, size=total_size)  # loc: center (average), scale: standard deviation (spread)\n",
    "\n",
    "# Group B: Marketing Campaign B - lower spending\n",
    "group_b = np.random.normal(loc=140, scale=25, size=total_size)\n",
    "\n",
    "# Create DataFrame\n",
    "data = pd.DataFrame({\n",
    "    'group': ['A']*total_size + ['B']*total_size,\n",
    "    'spending': np.concatenate([group_a, group_b])\n",
    "    })\n",
    "data"
   ]
  },
  {
   "cell_type": "code",
   "execution_count": 3,
   "id": "ZSj-XwpiIWw2",
   "metadata": {
    "colab": {
     "base_uri": "https://localhost:8080/",
     "height": 581
    },
    "executionInfo": {
     "elapsed": 538,
     "status": "ok",
     "timestamp": 1728493844189,
     "user": {
      "displayName": "Mohammad Soltanieh Ha",
      "userId": "12308918870841825745"
     },
     "user_tz": 240
    },
    "id": "ZSj-XwpiIWw2",
    "outputId": "74c3b059-0a67-42b5-b175-0ec9e2df25a4"
   },
   "outputs": [
    {
     "data": {
      "image/png": "[encoded data removed]",
      "text/plain": [
       "<Figure size 1000x600 with 1 Axes>"
      ]
     },
     "metadata": {},
     "output_type": "display_data"
    }
   ],
   "source": [
    "# Plotting Box Plot to Compare Groups\n",
    "fig, ax = plt.subplots(figsize=(10, 6))\n",
    "sns.boxplot(x='group', y='spending', data=data, ax=ax)\n",
    "ax.set_title('Comparison of Spending Between Group A and Group B')\n",
    "ax.set_xlabel('Group')\n",
    "ax.set_ylabel('Spending')\n",
    "ax.grid(True, axis='y');"
   ]
  },
  {
   "cell_type": "code",
   "execution_count": 4,
   "id": "OpmTKavhH4IV",
   "metadata": {
    "colab": {
     "base_uri": "https://localhost:8080/",
     "height": 824
    },
    "executionInfo": {
     "elapsed": 380,
     "status": "ok",
     "timestamp": 1728493845100,
     "user": {
      "displayName": "Mohammad Soltanieh Ha",
      "userId": "12308918870841825745"
     },
     "user_tz": 240
    },
    "id": "OpmTKavhH4IV",
    "outputId": "93a89129-47f9-4650-a75a-34e7b631b5e0"
   },
   "outputs": [
    {
     "data": {
      "image/png": "[encoded data removed]",
      "text/plain": [
       "<Figure size 1000x600 with 1 Axes>"
      ]
     },
     "metadata": {},
     "output_type": "display_data"
    },
    {
     "name": "stdout",
     "output_type": "stream",
     "text": [
      "Sample Size: 30, p-value: 0.5415\n",
      "\t- No significant difference at this sample size.\n",
      "Sample Size: 50, p-value: 0.0351\n",
      "\t- Significant difference between Group A and Group B spending.\n",
      "Sample Size: 100, p-value: 0.0147\n",
      "\t- Significant difference between Group A and Group B spending.\n",
      "Sample Size: 200, p-value: 0.0015\n",
      "\t- Significant difference between Group A and Group B spending.\n",
      "Sample Size: 400, p-value: 0.0000\n",
      "\t- Significant difference between Group A and Group B spending.\n",
      "\n",
      "Normality Test Results (random subsample of 50):\n",
      "Group A: W-statistic=0.9774, p-value=0.4466\n",
      "Group B: W-statistic=0.9651, p-value=0.1454\n",
      "Both groups are approximately normally distributed.\n"
     ]
    }
   ],
   "source": [
    "# Function to Perform Sampling and Two-Sample T-Test\n",
    "def perform_t_test(sample_size):\n",
    "    sample_a = random.sample(list(group_a), sample_size)\n",
    "    sample_b = random.sample(list(group_b), sample_size)\n",
    "    t_stat, p_value = ttest_ind(sample_a, sample_b, alternative='two-sided', equal_var=False)\n",
    "    return t_stat, p_value\n",
    "\n",
    "# Analyzing the Impact of Sample Size\n",
    "sample_sizes = [30, 50, 100, 200, 400]\n",
    "p_values = []\n",
    "\n",
    "for size in sample_sizes:\n",
    "    _, p_value = perform_t_test(size)\n",
    "    p_values.append(p_value)\n",
    "\n",
    "# Plotting p-values against Sample Sizes\n",
    "plt.figure(figsize=(10, 6))\n",
    "plt.plot(sample_sizes, p_values, marker='o')\n",
    "plt.axhline(y=0.05, color='r', linestyle='--', label='Significance Level (0.05)')\n",
    "plt.xlabel('Sample Size')\n",
    "plt.ylabel('p-value')\n",
    "plt.ylim(0, 1)  # Set p-value limits from 0 to 1\n",
    "plt.title('Impact of Sample Size on Statistical Significance')\n",
    "plt.legend()\n",
    "plt.grid(True)\n",
    "plt.show()\n",
    "\n",
    "# Interpretation\n",
    "for i, size in enumerate(sample_sizes):\n",
    "    print(f\"Sample Size: {size}, p-value: {p_values[i]:.4f}\")\n",
    "    if p_values[i] < 0.05:\n",
    "        print(\"\\t- Significant difference between Group A and Group B spending.\")\n",
    "    else:\n",
    "        print(\"\\t- No significant difference at this sample size.\")\n",
    "\n",
    "# Testing for Normality (use a random subsample for Shapiro)\n",
    "sub_a = random.sample(list(group_a), 50)\n",
    "sub_b = random.sample(list(group_b), 50)\n",
    "shapiro_a = shapiro(sub_a)\n",
    "shapiro_b = shapiro(sub_b)\n",
    "\n",
    "print(\"\\nNormality Test Results (random subsample of 50):\")\n",
    "print(f\"Group A: W-statistic={shapiro_a.statistic:.4f}, p-value={shapiro_a.pvalue:.4f}\")\n",
    "print(f\"Group B: W-statistic={shapiro_b.statistic:.4f}, p-value={shapiro_b.pvalue:.4f}\")\n",
    "if shapiro_a.pvalue > 0.05 and shapiro_b.pvalue > 0.05:\n",
    "    print(\"Both groups are approximately normally distributed.\")\n",
    "else:\n",
    "    print(\"At least one group is not normally distributed.\")"
   ]
  },
  {
   "cell_type": "markdown",
   "id": "udZd37k4ODZB",
   "metadata": {
    "id": "udZd37k4ODZB"
   },
   "source": [
    "The t-test function `ttest_ind()`, from ``scipy`, is used to compare the means of two independent samples.\n",
    "\n",
    "By specifying `equal_var=False`, we are performing Welch's t-test, which does not assume equal variances between the groups.\n",
    "\n",
    "This makes the analysis more robust, as real-world data often have different variances, and using Welch's t-test can help prevent misleading conclusions when variances are unequal."
   ]
  },
  {
   "cell_type": "markdown",
   "id": "3031cfee",
   "metadata": {
    "id": "3031cfee"
   },
   "source": [
    "### 3.1 Examples of Different Hypothesis Scenarios\n",
    "- The distinction between \"significantly different\" and \"significantly higher\" lies in how we formulate and interpret the hypothesis:\n",
    "  - A **two-tailed test** checks if the means of Group A and Group B are different, regardless of direction. If the p-value from a two-tailed test is significant, we can conclude that there is a statistically significant difference between Group A and Group B, but it does not specify whether Group A is higher or lower.\n",
    "  - A **one-tailed test** checks specifically if Group A is greater than Group B. If the p-value is significant and the t-statistic is positive, we can conclude that Group A is significantly higher than Group B.\n",
    "\n",
    "- Let's explore how the formulation of the alternative hypothesis impacts the interpretation of the test results."
   ]
  },
  {
   "cell_type": "markdown",
   "id": "aed7f206",
   "metadata": {
    "id": "aed7f206"
   },
   "source": [
    "#### Example 1: Significantly Different (Two-Tailed Test)\n",
    "- In this scenario, we want to test if there is a **significant difference** between Group A and Group B, regardless of direction (i.e., whether Group A is higher or lower than Group B).\n",
    "- **Null Hypothesis (H0)**: The average spending of Group A is equal to the average spending of Group B (`mean_A = mean_B`).\n",
    "- **Alternative Hypothesis (H1)**: The average spending of Group A is not equal to the average spending of Group B (`mean_A ≠ mean_B`).\n",
    "- In the code, the default behavior of the `ttest_ind()` function is a two-tailed test, which allows us to determine if there is any difference between the two groups."
   ]
  },
  {
   "cell_type": "code",
   "execution_count": 5,
   "id": "HGZNHTsSQgXC",
   "metadata": {
    "colab": {
     "base_uri": "https://localhost:8080/"
    },
    "executionInfo": {
     "elapsed": 154,
     "status": "ok",
     "timestamp": 1728493853881,
     "user": {
      "displayName": "Mohammad Soltanieh Ha",
      "userId": "12308918870841825745"
     },
     "user_tz": 240
    },
    "id": "HGZNHTsSQgXC",
    "outputId": "b40dc248-38fc-430e-ecb9-1dd5a289d146"
   },
   "outputs": [
    {
     "name": "stdout",
     "output_type": "stream",
     "text": [
      "Two-Tailed Test: t-statistic = 2.2239, p-value = 0.0274\n",
      "There is a significant difference between Group A and Group B.\n"
     ]
    }
   ],
   "source": [
    "# Two-Tailed Test Example\n",
    "\n",
    "# Sampling once for both tests\n",
    "sample_a = random.sample(list(group_a), 100)\n",
    "sample_b = random.sample(list(group_b), 100)\n",
    "\n",
    "t_stat, p_value = ttest_ind(sample_a, sample_b, alternative='two-sided', equal_var=False)\n",
    "\n",
    "print(f\"Two-Tailed Test: t-statistic = {t_stat:.4f}, p-value = {p_value:.4f}\")\n",
    "if p_value < 0.05:\n",
    "    print(\"There is a significant difference between Group A and Group B.\")\n",
    "else:\n",
    "    print(\"No significant difference between Group A and Group B.\")"
   ]
  },
  {
   "cell_type": "markdown",
   "id": "eeb5b9d5",
   "metadata": {
    "id": "eeb5b9d5"
   },
   "source": [
    "#### Example 2: Significantly Higher (One-Tailed Test)\n",
    "- In this scenario, we specifically want to test if Group A is **significantly higher** than Group B.\n",
    "- **Null Hypothesis (H0)**: The average spending of Group A is less than or equal to the average spending of Group B (`mean_A ≤ mean_B`).\n",
    "- **Alternative Hypothesis (H1)**: The average spending of Group A is greater than the average spending of Group B (`mean_A > mean_B`).\n",
    "- To perform a one-tailed test, we can use the p-value from `ttest_ind()` and divide it by 2, assuming the t-statistic is in the direction of interest."
   ]
  },
  {
   "cell_type": "code",
   "execution_count": 6,
   "id": "NSY4I7PfQ95F",
   "metadata": {
    "colab": {
     "base_uri": "https://localhost:8080/"
    },
    "executionInfo": {
     "elapsed": 190,
     "status": "ok",
     "timestamp": 1728493857245,
     "user": {
      "displayName": "Mohammad Soltanieh Ha",
      "userId": "12308918870841825745"
     },
     "user_tz": 240
    },
    "id": "NSY4I7PfQ95F",
    "outputId": "9f6ac8ea-b995-45cf-d883-633d423ef607"
   },
   "outputs": [
    {
     "name": "stdout",
     "output_type": "stream",
     "text": [
      "One-Tailed Test: t-statistic = 2.2239, p-value = 0.0137\n",
      "Group A is significantly higher than Group B.\n"
     ]
    }
   ],
   "source": [
    "# One-Tailed Test Example\n",
    "t_stat, p_value = ttest_ind(sample_a, sample_b, alternative='greater', equal_var=False)\n",
    "\n",
    "print(f\"One-Tailed Test: t-statistic = {t_stat:.4f}, p-value = {p_value:.4f}\")\n",
    "if p_value < 0.05:\n",
    "    print(\"Group A is significantly higher than Group B.\")\n",
    "else:\n",
    "    print(\"No significant evidence that Group A is higher than Group B.\")"
   ]
  },
  {
   "cell_type": "code",
   "execution_count": 7,
   "id": "xQQtmrmag7_J",
   "metadata": {
    "colab": {
     "base_uri": "https://localhost:8080/"
    },
    "executionInfo": {
     "elapsed": 150,
     "status": "ok",
     "timestamp": 1728493858597,
     "user": {
      "displayName": "Mohammad Soltanieh Ha",
      "userId": "12308918870841825745"
     },
     "user_tz": 240
    },
    "id": "xQQtmrmag7_J",
    "outputId": "b8079c15-0d78-40b7-bb14-408938052ed3"
   },
   "outputs": [
    {
     "name": "stdout",
     "output_type": "stream",
     "text": [
      "One-Tailed Test: t-statistic = 2.2239, p-value = 0.9863\n",
      "No significant evidence that Group A is lower than Group B.\n"
     ]
    }
   ],
   "source": [
    "# One-Tailed Test Example\n",
    "t_stat, p_value = ttest_ind(sample_a, sample_b, alternative='less', equal_var=False)\n",
    "\n",
    "print(f\"One-Tailed Test: t-statistic = {t_stat:.4f}, p-value = {p_value:.4f}\")\n",
    "if p_value < 0.05:\n",
    "    print(\"Group A is significantly lower than Group B.\")\n",
    "else:\n",
    "    print(\"No significant evidence that Group A is lower than Group B.\")"
   ]
  },
  {
   "cell_type": "markdown",
   "id": "18b63d0c",
   "metadata": {
    "id": "18b63d0c"
   },
   "source": [
    "- A significant result in a two-tailed test indicates a detectable effect in one of the directions. A one-tailed test, when focused on the correct direction, should also be significant or more so, as it concentrates on just one side of the distribution, typically resulting in a lower p-value. The p-value for a one-tailed test is half that of a two-tailed test but only if the effect is in the predicted direction. If the effect is in the opposite direction, the p-value for the one-tailed test would be much larger or nonsignificant, as it does not account for effects in the opposite direction.\n",
    "- For small sample sizes, p-values are often higher, indicating more uncertainty.\n",
    "- As the sample size increases, p-values tend to decrease, improving the confidence in rejecting the null hypothesis if the true difference exists."
   ]
  },
  {
   "cell_type": "markdown",
   "id": "143ef083",
   "metadata": {
    "id": "143ef083"
   },
   "source": [
    "### 4. Interactive Exercise\n",
    "- Modify the code by adjusting the `loc` or `scale` parameters of the groups to simulate different scenarios (e.g., more overlap, less overlap).\n",
    "- After modifying the parameters, interpret the results to understand the impact of increasing or decreasing the overlap between the distributions. Consider what it means if the distributions have more or less overlap and how it affects the p-values.\n",
    "- Experiment with different sample sizes and see how that changes the p-values."
   ]
  },
  {
   "cell_type": "code",
   "execution_count": null,
   "id": "5c_Cm-gAT2uV",
   "metadata": {
    "id": "5c_Cm-gAT2uV"
   },
   "outputs": [],
   "source": [
    "# Your code goes here\n"
   ]
  },
  {
   "cell_type": "markdown",
   "id": "jAF2UVBU-mZv",
   "metadata": {
    "id": "jAF2UVBU-mZv"
   },
   "source": [
    "# 5 Real-world Exercise\n",
    "\n",
    "In this exercise, we aim to determine whether there is a **significant difference** in the heights of female players at the Olympics competing in 'Swimming' and 'Athletics'.\n",
    "\n",
    "**Null Hypothesis (H0):** The average height of swimmers is equal to the average height of players in Athletics (mean_A = mean_B).\n",
    "\n",
    "**Alternative Hypothesis (H1):** The average height of swimmers is not equal to the average height of players in Athletics (mean_A ≠ mean_B).\n",
    "\n",
    "Use the `ttest_ind()` function to conduct a two-tailed test and determine if there is a significant difference between the two groups."
   ]
  },
  {
   "cell_type": "code",
   "execution_count": null,
   "id": "3ZWFqpKu-rHc",
   "metadata": {
    "colab": {
     "base_uri": "https://localhost:8080/",
     "height": 423
    },
    "executionInfo": {
     "elapsed": 1957,
     "status": "ok",
     "timestamp": 1728493218992,
     "user": {
      "displayName": "Mohammad Soltanieh Ha",
      "userId": "12308918870841825745"
     },
     "user_tz": 240
    },
    "id": "3ZWFqpKu-rHc",
    "outputId": "e5ea8539-302c-4781-9288-380f384a6a91"
   },
   "outputs": [
    {
     "data": {
      "application/vnd.google.colaboratory.intrinsic+json": {
       "type": "dataframe",
       "variable_name": "athlete_events"
      },
      "text/html": [
       "\n",
       "  <div id=\"df-39af872d-cf7e-46b8-b62b-151947b96c28\" class=\"colab-df-container\">\n",
       "    <div>\n",
       "<style scoped>\n",
       "    .dataframe tbody tr th:only-of-type {\n",
       "        vertical-align: middle;\n",
       "    }\n",
       "\n",
       "    .dataframe tbody tr th {\n",
       "        vertical-align: top;\n",
       "    }\n",
       "\n",
       "    .dataframe thead th {\n",
       "        text-align: right;\n",
       "    }\n",
       "</style>\n",
       "<table border=\"1\" class=\"dataframe\">\n",
       "  <thead>\n",
       "    <tr style=\"text-align: right;\">\n",
       "      <th></th>\n",
       "      <th>ID</th>\n",
       "      <th>Name</th>\n",
       "      <th>Sex</th>\n",
       "      <th>Age</th>\n",
       "      <th>Height</th>\n",
       "      <th>Weight</th>\n",
       "      <th>Team</th>\n",
       "      <th>NOC</th>\n",
       "      <th>Games</th>\n",
       "      <th>Year</th>\n",
       "      <th>Season</th>\n",
       "      <th>City</th>\n",
       "      <th>Sport</th>\n",
       "      <th>Event</th>\n",
       "      <th>Medal</th>\n",
       "    </tr>\n",
       "  </thead>\n",
       "  <tbody>\n",
       "    <tr>\n",
       "      <th>0</th>\n",
       "      <td>1</td>\n",
       "      <td>A Dijiang</td>\n",
       "      <td>M</td>\n",
       "      <td>24.0</td>\n",
       "      <td>180.0</td>\n",
       "      <td>80.0</td>\n",
       "      <td>China</td>\n",
       "      <td>CHN</td>\n",
       "      <td>1992 Summer</td>\n",
       "      <td>1992</td>\n",
       "      <td>Summer</td>\n",
       "      <td>Barcelona</td>\n",
       "      <td>Basketball</td>\n",
       "      <td>Basketball Men's Basketball</td>\n",
       "      <td>NaN</td>\n",
       "    </tr>\n",
       "    <tr>\n",
       "      <th>1</th>\n",
       "      <td>2</td>\n",
       "      <td>A Lamusi</td>\n",
       "      <td>M</td>\n",
       "      <td>23.0</td>\n",
       "      <td>170.0</td>\n",
       "      <td>60.0</td>\n",
       "      <td>China</td>\n",
       "      <td>CHN</td>\n",
       "      <td>2012 Summer</td>\n",
       "      <td>2012</td>\n",
       "      <td>Summer</td>\n",
       "      <td>London</td>\n",
       "      <td>Judo</td>\n",
       "      <td>Judo Men's Extra-Lightweight</td>\n",
       "      <td>NaN</td>\n",
       "    </tr>\n",
       "    <tr>\n",
       "      <th>2</th>\n",
       "      <td>3</td>\n",
       "      <td>Gunnar Nielsen Aaby</td>\n",
       "      <td>M</td>\n",
       "      <td>24.0</td>\n",
       "      <td>NaN</td>\n",
       "      <td>NaN</td>\n",
       "      <td>Denmark</td>\n",
       "      <td>DEN</td>\n",
       "      <td>1920 Summer</td>\n",
       "      <td>1920</td>\n",
       "      <td>Summer</td>\n",
       "      <td>Antwerpen</td>\n",
       "      <td>Football</td>\n",
       "      <td>Football Men's Football</td>\n",
       "      <td>NaN</td>\n",
       "    </tr>\n",
       "    <tr>\n",
       "      <th>3</th>\n",
       "      <td>4</td>\n",
       "      <td>Edgar Lindenau Aabye</td>\n",
       "      <td>M</td>\n",
       "      <td>34.0</td>\n",
       "      <td>NaN</td>\n",
       "      <td>NaN</td>\n",
       "      <td>Denmark/Sweden</td>\n",
       "      <td>DEN</td>\n",
       "      <td>1900 Summer</td>\n",
       "      <td>1900</td>\n",
       "      <td>Summer</td>\n",
       "      <td>Paris</td>\n",
       "      <td>Tug-Of-War</td>\n",
       "      <td>Tug-Of-War Men's Tug-Of-War</td>\n",
       "      <td>Gold</td>\n",
       "    </tr>\n",
       "    <tr>\n",
       "      <th>4</th>\n",
       "      <td>5</td>\n",
       "      <td>Christine Jacoba Aaftink</td>\n",
       "      <td>F</td>\n",
       "      <td>21.0</td>\n",
       "      <td>185.0</td>\n",
       "      <td>82.0</td>\n",
       "      <td>Netherlands</td>\n",
       "      <td>NED</td>\n",
       "      <td>1988 Winter</td>\n",
       "      <td>1988</td>\n",
       "      <td>Winter</td>\n",
       "      <td>Calgary</td>\n",
       "      <td>Speed Skating</td>\n",
       "      <td>Speed Skating Women's 500 metres</td>\n",
       "      <td>NaN</td>\n",
       "    </tr>\n",
       "    <tr>\n",
       "      <th>...</th>\n",
       "      <td>...</td>\n",
       "      <td>...</td>\n",
       "      <td>...</td>\n",
       "      <td>...</td>\n",
       "      <td>...</td>\n",
       "      <td>...</td>\n",
       "      <td>...</td>\n",
       "      <td>...</td>\n",
       "      <td>...</td>\n",
       "      <td>...</td>\n",
       "      <td>...</td>\n",
       "      <td>...</td>\n",
       "      <td>...</td>\n",
       "      <td>...</td>\n",
       "      <td>...</td>\n",
       "    </tr>\n",
       "    <tr>\n",
       "      <th>271111</th>\n",
       "      <td>135569</td>\n",
       "      <td>Andrzej ya</td>\n",
       "      <td>M</td>\n",
       "      <td>29.0</td>\n",
       "      <td>179.0</td>\n",
       "      <td>89.0</td>\n",
       "      <td>Poland-1</td>\n",
       "      <td>POL</td>\n",
       "      <td>1976 Winter</td>\n",
       "      <td>1976</td>\n",
       "      <td>Winter</td>\n",
       "      <td>Innsbruck</td>\n",
       "      <td>Luge</td>\n",
       "      <td>Luge Mixed (Men)'s Doubles</td>\n",
       "      <td>NaN</td>\n",
       "    </tr>\n",
       "    <tr>\n",
       "      <th>271112</th>\n",
       "      <td>135570</td>\n",
       "      <td>Piotr ya</td>\n",
       "      <td>M</td>\n",
       "      <td>27.0</td>\n",
       "      <td>176.0</td>\n",
       "      <td>59.0</td>\n",
       "      <td>Poland</td>\n",
       "      <td>POL</td>\n",
       "      <td>2014 Winter</td>\n",
       "      <td>2014</td>\n",
       "      <td>Winter</td>\n",
       "      <td>Sochi</td>\n",
       "      <td>Ski Jumping</td>\n",
       "      <td>Ski Jumping Men's Large Hill, Individual</td>\n",
       "      <td>NaN</td>\n",
       "    </tr>\n",
       "    <tr>\n",
       "      <th>271113</th>\n",
       "      <td>135570</td>\n",
       "      <td>Piotr ya</td>\n",
       "      <td>M</td>\n",
       "      <td>27.0</td>\n",
       "      <td>176.0</td>\n",
       "      <td>59.0</td>\n",
       "      <td>Poland</td>\n",
       "      <td>POL</td>\n",
       "      <td>2014 Winter</td>\n",
       "      <td>2014</td>\n",
       "      <td>Winter</td>\n",
       "      <td>Sochi</td>\n",
       "      <td>Ski Jumping</td>\n",
       "      <td>Ski Jumping Men's Large Hill, Team</td>\n",
       "      <td>NaN</td>\n",
       "    </tr>\n",
       "    <tr>\n",
       "      <th>271114</th>\n",
       "      <td>135571</td>\n",
       "      <td>Tomasz Ireneusz ya</td>\n",
       "      <td>M</td>\n",
       "      <td>30.0</td>\n",
       "      <td>185.0</td>\n",
       "      <td>96.0</td>\n",
       "      <td>Poland</td>\n",
       "      <td>POL</td>\n",
       "      <td>1998 Winter</td>\n",
       "      <td>1998</td>\n",
       "      <td>Winter</td>\n",
       "      <td>Nagano</td>\n",
       "      <td>Bobsleigh</td>\n",
       "      <td>Bobsleigh Men's Four</td>\n",
       "      <td>NaN</td>\n",
       "    </tr>\n",
       "    <tr>\n",
       "      <th>271115</th>\n",
       "      <td>135571</td>\n",
       "      <td>Tomasz Ireneusz ya</td>\n",
       "      <td>M</td>\n",
       "      <td>34.0</td>\n",
       "      <td>185.0</td>\n",
       "      <td>96.0</td>\n",
       "      <td>Poland</td>\n",
       "      <td>POL</td>\n",
       "      <td>2002 Winter</td>\n",
       "      <td>2002</td>\n",
       "      <td>Winter</td>\n",
       "      <td>Salt Lake City</td>\n",
       "      <td>Bobsleigh</td>\n",
       "      <td>Bobsleigh Men's Four</td>\n",
       "      <td>NaN</td>\n",
       "    </tr>\n",
       "  </tbody>\n",
       "</table>\n",
       "<p>271116 rows × 15 columns</p>\n",
       "</div>\n",
       "    <div class=\"colab-df-buttons\">\n",
       "\n",
       "  <div class=\"colab-df-container\">\n",
       "    <button class=\"colab-df-convert\" onclick=\"convertToInteractive('df-39af872d-cf7e-46b8-b62b-151947b96c28')\"\n",
       "            title=\"Convert this dataframe to an interactive table.\"\n",
       "            style=\"display:none;\">\n",
       "\n",
       "  <svg xmlns=\"http://www.w3.org/2000/svg\" height=\"24px\" viewBox=\"0 -960 960 960\">\n",
       "    <path d=\"M120-120v-720h720v720H120Zm60-500h600v-160H180v160Zm220 220h160v-160H400v160Zm0 220h160v-160H400v160ZM180-400h160v-160H180v160Zm440 0h160v-160H620v160ZM180-180h160v-160H180v160Zm440 0h160v-160H620v160Z\"/>\n",
       "  </svg>\n",
       "    </button>\n",
       "\n",
       "  <style>\n",
       "    .colab-df-container {\n",
       "      display:flex;\n",
       "      gap: 12px;\n",
       "    }\n",
       "\n",
       "    .colab-df-convert {\n",
       "      background-color: #E8F0FE;\n",
       "      border: none;\n",
       "      border-radius: 50%;\n",
       "      cursor: pointer;\n",
       "      display: none;\n",
       "      fill: #1967D2;\n",
       "      height: 32px;\n",
       "      padding: 0 0 0 0;\n",
       "      width: 32px;\n",
       "    }\n",
       "\n",
       "    .colab-df-convert:hover {\n",
       "      background-color: #E2EBFA;\n",
       "      box-shadow: 0px 1px 2px rgba(60, 64, 67, 0.3), 0px 1px 3px 1px rgba(60, 64, 67, 0.15);\n",
       "      fill: #174EA6;\n",
       "    }\n",
       "\n",
       "    .colab-df-buttons div {\n",
       "      margin-bottom: 4px;\n",
       "    }\n",
       "\n",
       "    [theme=dark] .colab-df-convert {\n",
       "      background-color: #3B4455;\n",
       "      fill: #D2E3FC;\n",
       "    }\n",
       "\n",
       "    [theme=dark] .colab-df-convert:hover {\n",
       "      background-color: #434B5C;\n",
       "      box-shadow: 0px 1px 3px 1px rgba(0, 0, 0, 0.15);\n",
       "      filter: drop-shadow(0px 1px 2px rgba(0, 0, 0, 0.3));\n",
       "      fill: #FFFFFF;\n",
       "    }\n",
       "  </style>\n",
       "\n",
       "    <script>\n",
       "      const buttonEl =\n",
       "        document.querySelector('#df-39af872d-cf7e-46b8-b62b-151947b96c28 button.colab-df-convert');\n",
       "      buttonEl.style.display =\n",
       "        google.colab.kernel.accessAllowed ? 'block' : 'none';\n",
       "\n",
       "      async function convertToInteractive(key) {\n",
       "        const element = document.querySelector('#df-39af872d-cf7e-46b8-b62b-151947b96c28');\n",
       "        const dataTable =\n",
       "          await google.colab.kernel.invokeFunction('convertToInteractive',\n",
       "                                                    [key], {});\n",
       "        if (!dataTable) return;\n",
       "\n",
       "        const docLinkHtml = 'Like what you see? Visit the ' +\n",
       "          '<a target=\"_blank\" href=https://colab.research.google.com/notebooks/data_table.ipynb>data table notebook</a>'\n",
       "          + ' to learn more about interactive tables.';\n",
       "        element.innerHTML = '';\n",
       "        dataTable['output_type'] = 'display_data';\n",
       "        await google.colab.output.renderOutput(dataTable, element);\n",
       "        const docLink = document.createElement('div');\n",
       "        docLink.innerHTML = docLinkHtml;\n",
       "        element.appendChild(docLink);\n",
       "      }\n",
       "    </script>\n",
       "  </div>\n",
       "\n",
       "\n",
       "<div id=\"df-1bbe8a95-859f-4a05-b0e0-dd58439bd06e\">\n",
       "  <button class=\"colab-df-quickchart\" onclick=\"quickchart('df-1bbe8a95-859f-4a05-b0e0-dd58439bd06e')\"\n",
       "            title=\"Suggest charts\"\n",
       "            style=\"display:none;\">\n",
       "\n",
       "<svg xmlns=\"http://www.w3.org/2000/svg\" height=\"24px\"viewBox=\"0 0 24 24\"\n",
       "     width=\"24px\">\n",
       "    <g>\n",
       "        <path d=\"M19 3H5c-1.1 0-2 .9-2 2v14c0 1.1.9 2 2 2h14c1.1 0 2-.9 2-2V5c0-1.1-.9-2-2-2zM9 17H7v-7h2v7zm4 0h-2V7h2v10zm4 0h-2v-4h2v4z\"/>\n",
       "    </g>\n",
       "</svg>\n",
       "  </button>\n",
       "\n",
       "<style>\n",
       "  .colab-df-quickchart {\n",
       "      --bg-color: #E8F0FE;\n",
       "      --fill-color: #1967D2;\n",
       "      --hover-bg-color: #E2EBFA;\n",
       "      --hover-fill-color: #174EA6;\n",
       "      --disabled-fill-color: #AAA;\n",
       "      --disabled-bg-color: #DDD;\n",
       "  }\n",
       "\n",
       "  [theme=dark] .colab-df-quickchart {\n",
       "      --bg-color: #3B4455;\n",
       "      --fill-color: #D2E3FC;\n",
       "      --hover-bg-color: #434B5C;\n",
       "      --hover-fill-color: #FFFFFF;\n",
       "      --disabled-bg-color: #3B4455;\n",
       "      --disabled-fill-color: #666;\n",
       "  }\n",
       "\n",
       "  .colab-df-quickchart {\n",
       "    background-color: var(--bg-color);\n",
       "    border: none;\n",
       "    border-radius: 50%;\n",
       "    cursor: pointer;\n",
       "    display: none;\n",
       "    fill: var(--fill-color);\n",
       "    height: 32px;\n",
       "    padding: 0;\n",
       "    width: 32px;\n",
       "  }\n",
       "\n",
       "  .colab-df-quickchart:hover {\n",
       "    background-color: var(--hover-bg-color);\n",
       "    box-shadow: 0 1px 2px rgba(60, 64, 67, 0.3), 0 1px 3px 1px rgba(60, 64, 67, 0.15);\n",
       "    fill: var(--button-hover-fill-color);\n",
       "  }\n",
       "\n",
       "  .colab-df-quickchart-complete:disabled,\n",
       "  .colab-df-quickchart-complete:disabled:hover {\n",
       "    background-color: var(--disabled-bg-color);\n",
       "    fill: var(--disabled-fill-color);\n",
       "    box-shadow: none;\n",
       "  }\n",
       "\n",
       "  .colab-df-spinner {\n",
       "    border: 2px solid var(--fill-color);\n",
       "    border-color: transparent;\n",
       "    border-bottom-color: var(--fill-color);\n",
       "    animation:\n",
       "      spin 1s steps(1) infinite;\n",
       "  }\n",
       "\n",
       "  @keyframes spin {\n",
       "    0% {\n",
       "      border-color: transparent;\n",
       "      border-bottom-color: var(--fill-color);\n",
       "      border-left-color: var(--fill-color);\n",
       "    }\n",
       "    20% {\n",
       "      border-color: transparent;\n",
       "      border-left-color: var(--fill-color);\n",
       "      border-top-color: var(--fill-color);\n",
       "    }\n",
       "    30% {\n",
       "      border-color: transparent;\n",
       "      border-left-color: var(--fill-color);\n",
       "      border-top-color: var(--fill-color);\n",
       "      border-right-color: var(--fill-color);\n",
       "    }\n",
       "    40% {\n",
       "      border-color: transparent;\n",
       "      border-right-color: var(--fill-color);\n",
       "      border-top-color: var(--fill-color);\n",
       "    }\n",
       "    60% {\n",
       "      border-color: transparent;\n",
       "      border-right-color: var(--fill-color);\n",
       "    }\n",
       "    80% {\n",
       "      border-color: transparent;\n",
       "      border-right-color: var(--fill-color);\n",
       "      border-bottom-color: var(--fill-color);\n",
       "    }\n",
       "    90% {\n",
       "      border-color: transparent;\n",
       "      border-bottom-color: var(--fill-color);\n",
       "    }\n",
       "  }\n",
       "</style>\n",
       "\n",
       "  <script>\n",
       "    async function quickchart(key) {\n",
       "      const quickchartButtonEl =\n",
       "        document.querySelector('#' + key + ' button');\n",
       "      quickchartButtonEl.disabled = true;  // To prevent multiple clicks.\n",
       "      quickchartButtonEl.classList.add('colab-df-spinner');\n",
       "      try {\n",
       "        const charts = await google.colab.kernel.invokeFunction(\n",
       "            'suggestCharts', [key], {});\n",
       "      } catch (error) {\n",
       "        console.error('Error during call to suggestCharts:', error);\n",
       "      }\n",
       "      quickchartButtonEl.classList.remove('colab-df-spinner');\n",
       "      quickchartButtonEl.classList.add('colab-df-quickchart-complete');\n",
       "    }\n",
       "    (() => {\n",
       "      let quickchartButtonEl =\n",
       "        document.querySelector('#df-1bbe8a95-859f-4a05-b0e0-dd58439bd06e button');\n",
       "      quickchartButtonEl.style.display =\n",
       "        google.colab.kernel.accessAllowed ? 'block' : 'none';\n",
       "    })();\n",
       "  </script>\n",
       "</div>\n",
       "\n",
       "  <div id=\"id_d0db693f-ae04-47fd-a20c-c30917a624da\">\n",
       "    <style>\n",
       "      .colab-df-generate {\n",
       "        background-color: #E8F0FE;\n",
       "        border: none;\n",
       "        border-radius: 50%;\n",
       "        cursor: pointer;\n",
       "        display: none;\n",
       "        fill: #1967D2;\n",
       "        height: 32px;\n",
       "        padding: 0 0 0 0;\n",
       "        width: 32px;\n",
       "      }\n",
       "\n",
       "      .colab-df-generate:hover {\n",
       "        background-color: #E2EBFA;\n",
       "        box-shadow: 0px 1px 2px rgba(60, 64, 67, 0.3), 0px 1px 3px 1px rgba(60, 64, 67, 0.15);\n",
       "        fill: #174EA6;\n",
       "      }\n",
       "\n",
       "      [theme=dark] .colab-df-generate {\n",
       "        background-color: #3B4455;\n",
       "        fill: #D2E3FC;\n",
       "      }\n",
       "\n",
       "      [theme=dark] .colab-df-generate:hover {\n",
       "        background-color: #434B5C;\n",
       "        box-shadow: 0px 1px 3px 1px rgba(0, 0, 0, 0.15);\n",
       "        filter: drop-shadow(0px 1px 2px rgba(0, 0, 0, 0.3));\n",
       "        fill: #FFFFFF;\n",
       "      }\n",
       "    </style>\n",
       "    <button class=\"colab-df-generate\" onclick=\"generateWithVariable('athlete_events')\"\n",
       "            title=\"Generate code using this dataframe.\"\n",
       "            style=\"display:none;\">\n",
       "\n",
       "  <svg xmlns=\"http://www.w3.org/2000/svg\" height=\"24px\"viewBox=\"0 0 24 24\"\n",
       "       width=\"24px\">\n",
       "    <path d=\"M7,19H8.4L18.45,9,17,7.55,7,17.6ZM5,21V16.75L18.45,3.32a2,2,0,0,1,2.83,0l1.4,1.43a1.91,1.91,0,0,1,.58,1.4,1.91,1.91,0,0,1-.58,1.4L9.25,21ZM18.45,9,17,7.55Zm-12,3A5.31,5.31,0,0,0,4.9,8.1,5.31,5.31,0,0,0,1,6.5,5.31,5.31,0,0,0,4.9,4.9,5.31,5.31,0,0,0,6.5,1,5.31,5.31,0,0,0,8.1,4.9,5.31,5.31,0,0,0,12,6.5,5.46,5.46,0,0,0,6.5,12Z\"/>\n",
       "  </svg>\n",
       "    </button>\n",
       "    <script>\n",
       "      (() => {\n",
       "      const buttonEl =\n",
       "        document.querySelector('#id_d0db693f-ae04-47fd-a20c-c30917a624da button.colab-df-generate');\n",
       "      buttonEl.style.display =\n",
       "        google.colab.kernel.accessAllowed ? 'block' : 'none';\n",
       "\n",
       "      buttonEl.onclick = () => {\n",
       "        google.colab.notebook.generateWithVariable('athlete_events');\n",
       "      }\n",
       "      })();\n",
       "    </script>\n",
       "  </div>\n",
       "\n",
       "    </div>\n",
       "  </div>\n"
      ],
      "text/plain": [
       "            ID                      Name Sex   Age  Height  Weight  \\\n",
       "0            1                 A Dijiang   M  24.0   180.0    80.0   \n",
       "1            2                  A Lamusi   M  23.0   170.0    60.0   \n",
       "2            3       Gunnar Nielsen Aaby   M  24.0     NaN     NaN   \n",
       "3            4      Edgar Lindenau Aabye   M  34.0     NaN     NaN   \n",
       "4            5  Christine Jacoba Aaftink   F  21.0   185.0    82.0   \n",
       "...        ...                       ...  ..   ...     ...     ...   \n",
       "271111  135569                Andrzej ya   M  29.0   179.0    89.0   \n",
       "271112  135570                  Piotr ya   M  27.0   176.0    59.0   \n",
       "271113  135570                  Piotr ya   M  27.0   176.0    59.0   \n",
       "271114  135571        Tomasz Ireneusz ya   M  30.0   185.0    96.0   \n",
       "271115  135571        Tomasz Ireneusz ya   M  34.0   185.0    96.0   \n",
       "\n",
       "                  Team  NOC        Games  Year  Season            City  \\\n",
       "0                China  CHN  1992 Summer  1992  Summer       Barcelona   \n",
       "1                China  CHN  2012 Summer  2012  Summer          London   \n",
       "2              Denmark  DEN  1920 Summer  1920  Summer       Antwerpen   \n",
       "3       Denmark/Sweden  DEN  1900 Summer  1900  Summer           Paris   \n",
       "4          Netherlands  NED  1988 Winter  1988  Winter         Calgary   \n",
       "...                ...  ...          ...   ...     ...             ...   \n",
       "271111        Poland-1  POL  1976 Winter  1976  Winter       Innsbruck   \n",
       "271112          Poland  POL  2014 Winter  2014  Winter           Sochi   \n",
       "271113          Poland  POL  2014 Winter  2014  Winter           Sochi   \n",
       "271114          Poland  POL  1998 Winter  1998  Winter          Nagano   \n",
       "271115          Poland  POL  2002 Winter  2002  Winter  Salt Lake City   \n",
       "\n",
       "                Sport                                     Event Medal  \n",
       "0          Basketball               Basketball Men's Basketball   NaN  \n",
       "1                Judo              Judo Men's Extra-Lightweight   NaN  \n",
       "2            Football                   Football Men's Football   NaN  \n",
       "3          Tug-Of-War               Tug-Of-War Men's Tug-Of-War  Gold  \n",
       "4       Speed Skating          Speed Skating Women's 500 metres   NaN  \n",
       "...               ...                                       ...   ...  \n",
       "271111           Luge                Luge Mixed (Men)'s Doubles   NaN  \n",
       "271112    Ski Jumping  Ski Jumping Men's Large Hill, Individual   NaN  \n",
       "271113    Ski Jumping        Ski Jumping Men's Large Hill, Team   NaN  \n",
       "271114      Bobsleigh                      Bobsleigh Men's Four   NaN  \n",
       "271115      Bobsleigh                      Bobsleigh Men's Four   NaN  \n",
       "\n",
       "[271116 rows x 15 columns]"
      ]
     },
     "execution_count": 11,
     "metadata": {},
     "output_type": "execute_result"
    }
   ],
   "source": [
    "url = 'https://raw.githubusercontent.com/soltaniehha/Python-Bootcamp/master/data/120-years-of-olympic-history-athletes-and-results/athlete_events.csv'\n",
    "athlete_events = pd.read_csv(url)\n",
    "athlete_events"
   ]
  },
  {
   "cell_type": "markdown",
   "id": "VdaGqU6pC_yf",
   "metadata": {
    "id": "VdaGqU6pC_yf"
   },
   "source": [
    "- **Filter Data for Swimming and Athletics Players**: Filter the dataset to include only female athletes participating in Swimming and Athletics."
   ]
  },
  {
   "cell_type": "code",
   "execution_count": null,
   "id": "MdtL2wh-DB47",
   "metadata": {
    "id": "MdtL2wh-DB47"
   },
   "outputs": [],
   "source": [
    "interest_sports = ['Swimming', 'Athletics']\n",
    "\n",
    "# Your code goes here\n"
   ]
  },
  {
   "cell_type": "markdown",
   "id": "eK8xZC1UDFUo",
   "metadata": {
    "id": "eK8xZC1UDFUo"
   },
   "source": [
    "- **Drop Missing Values**: Remove rows with missing height values to ensure accuracy in the analysis."
   ]
  },
  {
   "cell_type": "code",
   "execution_count": null,
   "id": "-LOAiKrODDBC",
   "metadata": {
    "id": "-LOAiKrODDBC"
   },
   "outputs": [],
   "source": [
    "# Your code goes here\n"
   ]
  },
  {
   "cell_type": "markdown",
   "id": "VTx7CSsCDIJ4",
   "metadata": {
    "id": "VTx7CSsCDIJ4"
   },
   "source": [
    "- **Aggregate Heights by ID and Sport**: Group by athlete ID and Sport to calculate the average height for each athlete, ensuring no double counting occurs."
   ]
  },
  {
   "cell_type": "code",
   "execution_count": null,
   "id": "OtPkWG4vDHy2",
   "metadata": {
    "id": "OtPkWG4vDHy2"
   },
   "outputs": [],
   "source": [
    "# Your code goes here\n"
   ]
  },
  {
   "cell_type": "markdown",
   "id": "37MVuyFODNNl",
   "metadata": {
    "id": "37MVuyFODNNl"
   },
   "source": [
    "- **Create Separate Groups for Analysis**: Create two separate datasets, one for \"Swimming\" players and one for \"Athletics\" players.\n",
    "\n",
    "Let's sample up to 1000 athletes in each sport (or the maximum available if fewer) so that we don't deal with very small sample sizes."
   ]
  },
  {
   "cell_type": "code",
   "execution_count": null,
   "id": "CkOsIajdDM5f",
   "metadata": {
    "id": "CkOsIajdDM5f"
   },
   "outputs": [],
   "source": [
    "# Your code goes here\n"
   ]
  },
  {
   "cell_type": "markdown",
   "id": "VcbdY-POFioY",
   "metadata": {
    "id": "VcbdY-POFioY"
   },
   "source": [
    "- Calculate **Average Height** for each group\n",
    "\n",
    "- Create histograms to look at **Distributions**"
   ]
  },
  {
   "cell_type": "code",
   "execution_count": null,
   "id": "Fyr_jR8CGChC",
   "metadata": {
    "id": "Fyr_jR8CGChC"
   },
   "outputs": [],
   "source": [
    "# Your code goes here\n"
   ]
  },
  {
   "cell_type": "markdown",
   "id": "8wP2nYWlGDV9",
   "metadata": {
    "id": "8wP2nYWlGDV9"
   },
   "source": [
    "- Check for **normality** in both groups using the Shapiro-Wilk test. If the p-value for both groups is greater than 0.05, you can proceed with the **t-test**. If not, consider using a non-parametric test like **Mann-Whitney U Test**."
   ]
  },
  {
   "cell_type": "code",
   "execution_count": null,
   "id": "iSrL5V_dHBaT",
   "metadata": {
    "id": "iSrL5V_dHBaT"
   },
   "outputs": [],
   "source": [
    "# Your code goes here\n"
   ]
  },
  {
   "cell_type": "markdown",
   "id": "_55fkUlWK1Ao",
   "metadata": {
    "id": "_55fkUlWK1Ao"
   },
   "source": [
    "**Create Q-Q Plots to Look at Distributions**\n",
    "\n",
    "To determine if the data is normally distributed, we can also use quantile-quantile plots (Q-Q plots). A Q-Q plot compares the theoretical quantiles of a normal distribution with the quantiles of the measured data. If the data is normally distributed, the points will fall approximately along a straight line. This is often preferred over formal statistical tests, as very small samples might misleadingly suggest normality, while very large samples may detect minor deviations from normality that are not practically significant."
   ]
  },
  {
   "cell_type": "code",
   "execution_count": null,
   "id": "WLV_ZKvHLLHR",
   "metadata": {
    "colab": {
     "base_uri": "https://localhost:8080/",
     "height": 507
    },
    "executionInfo": {
     "elapsed": 830,
     "status": "ok",
     "timestamp": 1728493244151,
     "user": {
      "displayName": "Mohammad Soltanieh Ha",
      "userId": "12308918870841825745"
     },
     "user_tz": 240
    },
    "id": "WLV_ZKvHLLHR",
    "outputId": "ebddea2b-f5dc-41d6-aa6c-d6d350451a42"
   },
   "outputs": [
    {
     "data": {
      "image/png": "[encoded data removed]",
      "text/plain": [
       "<Figure size 1200x500 with 2 Axes>"
      ]
     },
     "metadata": {},
     "output_type": "display_data"
    }
   ],
   "source": [
    "import scipy.stats as stats\n",
    "\n",
    "fig, axes = plt.subplots(1, 2, figsize=(12, 5))\n",
    "\n",
    "stats.probplot(group_a, dist=\"norm\", plot=axes[0])\n",
    "axes[0].set_title(f'Q-Q Plot of {interest_sports[0]} Players (Group A)')\n",
    "\n",
    "stats.probplot(group_b, dist=\"norm\", plot=axes[1])\n",
    "axes[1].set_title(f'Q-Q Plot of {interest_sports[1]} Players (Group B)')\n",
    "\n",
    "plt.tight_layout();"
   ]
  },
  {
   "cell_type": "markdown",
   "id": "rmp140IuIpg7",
   "metadata": {
    "id": "rmp140IuIpg7"
   },
   "source": [
    "- If both samples are almost normal, perform a **two-sample t-test** to compare the heights between the two groups and determine if there is a statistically significant difference in the average height. If at least one sample is not normal then use a **Mann–Whitney U test**."
   ]
  },
  {
   "cell_type": "code",
   "execution_count": null,
   "id": "458722HMMXMF",
   "metadata": {
    "id": "458722HMMXMF"
   },
   "outputs": [],
   "source": [
    "# Your code goes here\n"
   ]
  },
  {
   "cell_type": "code",
   "execution_count": null,
   "id": "PQTml_jsN8x7",
   "metadata": {
    "id": "PQTml_jsN8x7"
   },
   "outputs": [],
   "source": [
    "# Your code goes here\n"
   ]
  },
  {
   "cell_type": "markdown",
   "id": "56487b9f",
   "metadata": {
    "id": "56487b9f"
   },
   "source": [
    "## Takeaways from Two-Sample T-Test Analysis\n",
    "\n",
    "1. **Practical vs. Statistical Significance -**\n",
    "It's important to distinguish between results that are statistically significant and those that have practical relevance. A very small p-value may indicate a significant difference between groups, but the magnitude of that difference might be negligible in a real-world context.\n",
    "\n",
    "2. **Impact of Sample Size -**\n",
    "Larger sample sizes can increase the power of the t-test, making it easier to detect smaller differences between group means. However, large sample sizes can also make trivial differences statistically significant. You should always interpret statistical significance in the context of the actual effect size.\n",
    "\n",
    "3. **Handling Unequal Variances -**\n",
    "Using **Welch's t-test** (as implemented by setting `equal_var=False`) is important when the variances of the two groups are not equal. This is more robust in many real-world applications where variances differ between groups.\n",
    "\n",
    "4. **Checking for Normality -**\n",
    "The two-sample t-test assumes that the data in both groups are normally distributed. It's essential to check for normality using tests like the **Shapiro-Wilk test** or visual methods like **Q-Q plots**. If the normality assumption is violated, consider non-parametric alternatives like the **Mann-Whitney U test**.\n",
    "\n",
    "5. **Two-Tailed vs. One-Tailed Tests -**\n",
    "The choice between a two-tailed and one-tailed test depends on the research hypothesis. A two-tailed test assesses whether there is any difference between groups, while a one-tailed test looks for a difference in a specific direction (e.g., whether one group is significantly higher than the other).\n",
    "\n",
    "6. **Sensitivity to Outliers -**\n",
    "Outliers can heavily influence the results of a t-test. When outliers are present, trimming the data (using methods like **Yuen's t-test**) or using non-parametric tests may yield more reliable conclusions.\n",
    "\n",
    "7. **Using Visualizations -**\n",
    "Plotting distributions, box plots, and p-values against sample sizes can help in understanding the variability in data and the effect of sample size on statistical significance."
   ]
  }
 ],
 "metadata": {
  "colab": {
   "provenance": []
  },
  "kernelspec": {
   "display_name": "py_latest",
   "language": "python",
   "name": "python3"
  },
  "language_info": {
   "codemirror_mode": {
    "name": "ipython",
    "version": 3
   },
   "file_extension": ".py",
   "mimetype": "text/x-python",
   "name": "python",
   "nbconvert_exporter": "python",
   "pygments_lexer": "ipython3",
   "version": "3.13.2"
  }
 },
 "nbformat": 4,
 "nbformat_minor": 5
}
